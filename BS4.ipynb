{
 "cells": [
  {
   "cell_type": "code",
   "execution_count": 5,
   "metadata": {},
   "outputs": [],
   "source": [
    "import requests\n",
    "from bs4 import BeautifulSoup"
   ]
  },
  {
   "cell_type": "code",
   "execution_count": 6,
   "metadata": {},
   "outputs": [],
   "source": [
    "url = \"https://www.goodreads.com/quotes/tag/{}?page={}\""
   ]
  },
  {
   "cell_type": "code",
   "execution_count": 7,
   "metadata": {},
   "outputs": [],
   "source": [
    "def get_quotes(url):    \n",
    "    \n",
    "    res = requests.get(url)\n",
    "\n",
    "    soup = BeautifulSoup(res.text)\n",
    "\n",
    "    quote_divs = soup.find_all(\"div\", attrs={\"class\" : \"quote\"})\n",
    "\n",
    "    quotes = []\n",
    "\n",
    "    for quote_div in quote_divs:\n",
    "\n",
    "        quoteText_div = quote_div.find_next(\"div\", attrs={\"class\" : \"quoteText\"})\n",
    "\n",
    "        striped = quoteText_div.text.strip()\n",
    "\n",
    "        striped_li = striped.split(\"\\n\")\n",
    "\n",
    "        quote = striped_li[0][1:-1]\n",
    "        author = striped_li[-1].strip()\n",
    "\n",
    "        left_div = quote_div.find_next(\"div\", attrs={\"class\" : \"left\"})\n",
    "        tags = [tag.text for tag in left_div.find_all(\"a\")]\n",
    "\n",
    "        quote_item = {\n",
    "            \"text\" : quote,\n",
    "            \"author\" : author,\n",
    "            \"tags\" : tags\n",
    "        }\n",
    "\n",
    "        quotes.append(quote_item)\n",
    "    "
   ]
  },
  {
   "cell_type": "code",
   "execution_count": 10,
   "metadata": {},
   "outputs": [],
   "source": [
    "total = []\n"
   ]
  },
  {
   "cell_type": "code",
   "execution_count": 13,
   "metadata": {},
   "outputs": [
    {
     "name": "stdout",
     "output_type": "stream",
     "text": [
      "processed 1\n",
      "processed 2\n"
     ]
    }
   ],
   "source": [
    "for i in range(1, 6):\n",
    "    total.append(get_quotes(url.format(\"love\", i)))\n",
    "    print(\"processed\", i)"
   ]
  },
  {
   "cell_type": "code",
   "execution_count": null,
   "metadata": {},
   "outputs": [],
   "source": []
  }
 ],
 "metadata": {
  "interpreter": {
   "hash": "247ab06e135bb35fa78c5eff31b2a9a0050dcb5fb773c2631d2a29ac689eeccb"
  },
  "kernelspec": {
   "display_name": "Python 3.9.5 64-bit",
   "language": "python",
   "name": "python3"
  },
  "language_info": {
   "codemirror_mode": {
    "name": "ipython",
    "version": 3
   },
   "file_extension": ".py",
   "mimetype": "text/x-python",
   "name": "python",
   "nbconvert_exporter": "python",
   "pygments_lexer": "ipython3",
   "version": "3.9.5"
  },
  "orig_nbformat": 4
 },
 "nbformat": 4,
 "nbformat_minor": 2
}
